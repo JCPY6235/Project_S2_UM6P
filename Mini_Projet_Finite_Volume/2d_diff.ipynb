{
 "cells": [
  {
   "cell_type": "code",
   "execution_count": 30,
   "metadata": {},
   "outputs": [
    {
     "name": "stdout",
     "output_type": "stream",
     "text": [
      "Starting ....\n",
      "Number of Cells :  1720\n",
      "Number of Nodes :  911\n"
     ]
    }
   ],
   "source": [
    "#!/usr/bin/env python3\n",
    "# -*- coding: utf-8 -*-\n",
    "\"\"\"\n",
    "Created on Wed Feb 16 09:13:21 2024\n",
    "@author: \n",
    "\"\"\"\n",
    "\n",
    "from mpi4py import MPI\n",
    "import timeit\n",
    "import meshio\n",
    "COMM = MPI.COMM_WORLD\n",
    "SIZE = COMM.Get_size()\n",
    "RANK = COMM.Get_rank()\n",
    "\n",
    "from manapy.ddm import readmesh\n",
    "from manapy.ddm import Domain\n",
    "\n",
    "from manapy.tools.pyccel_tools import initialisation_gaussian_2d, update_new_value, time_step\n",
    "                          \n",
    "from manapy.fvm.pyccel_fvm import (explicitscheme_convective_2d,\n",
    "                                   explicitscheme_dissipative)\n",
    "\n",
    "#from manapy.ast import Variable, LinearSystem\n",
    "\n",
    "import numpy as np\n",
    "import os\n",
    "\n",
    "start = timeit.default_timer()\n",
    "\n",
    "# mesh directory\n",
    "\n",
    "dim = 2\n",
    "readmesh('rect.msh', dim=dim, periodic=[0,0,0])\n",
    "\n",
    "#Create the informations about cells, faces and nodes\n",
    "domain = Domain(dim=dim)\n",
    "\n",
    "faces = domain.faces\n",
    "cells = domain.cells\n",
    "halos = domain.halos\n",
    "nodes = domain.nodes\n",
    "\n",
    "nbnodes = domain.nbnodes\n",
    "nbfaces = domain.nbfaces\n",
    "nbcells = domain.nbcells\n"
   ]
  },
  {
   "cell_type": "code",
   "execution_count": 31,
   "metadata": {},
   "outputs": [
    {
     "data": {
      "text/plain": [
       "1720"
      ]
     },
     "execution_count": 31,
     "metadata": {},
     "output_type": "execute_result"
    }
   ],
   "source": [
    "domain.nbcells"
   ]
  },
  {
   "cell_type": "code",
   "execution_count": 32,
   "metadata": {},
   "outputs": [],
   "source": [
    "#Cells Centre\n",
    "Cells_centre= [cell[:-1] for cell in cells._center]"
   ]
  },
  {
   "cell_type": "code",
   "execution_count": 33,
   "metadata": {},
   "outputs": [],
   "source": [
    "import numpy.linalg as LA\n",
    "\n",
    "def circumcenter(C):\n",
    "    ax = C[0][0]\n",
    "    ay = C[0][1]\n",
    "    bx = C[1][0]\n",
    "    by = C[1][1]\n",
    "    cx = C[2][0]\n",
    "    cy = C[2][1]\n",
    "    d = 2 * (ax * (by - cy) + bx * (cy - ay) + cx * (ay - by))\n",
    "    ux = ((ax * ax + ay * ay) * (by - cy) + (bx * bx + by * by) * (cy - ay) + (cx * cx + cy * cy) * (ay - by)) / d\n",
    "    uy = ((ax * ax + ay * ay) * (cx - bx) + (bx * bx + by * by) * (ax - cx) + (cx * cx + cy * cy) * (bx - ax)) / d\n",
    "    return (ux, uy)\n",
    "\n",
    "def dist(x, y):\n",
    "    x=np.asarray(x)\n",
    "    y=np.asarray(y)\n",
    "    return LA.norm(x - y)"
   ]
  },
  {
   "cell_type": "code",
   "execution_count": 34,
   "metadata": {},
   "outputs": [],
   "source": [
    "def norm2(exact, Sol, volume, nbelements, order):      \n",
    "    Error = np.zeros(nbelements)\n",
    "    Ex = np.zeros(nbelements)\n",
    "    for i in range(nbelements):\n",
    "        Error[i] = np.fabs(Sol[i]- exact[i]) * volume[i]\n",
    "        Ex[i] = np.fabs(exact[i]) * volume[i]\n",
    "\n",
    "    ErrorL2 = np.linalg.norm(Error,ord=order)/np.linalg.norm(Ex,ord=order)\n",
    "    return ErrorL2"
   ]
  },
  {
   "cell_type": "code",
   "execution_count": 35,
   "metadata": {},
   "outputs": [],
   "source": [
    "def cell_ver_coor():\n",
    "    Cells_Cord=[]\n",
    "    for s in cells._nodeid :\n",
    "        Cell_Cord =[]\n",
    "        for i in s :\n",
    "            Cell_Cord.append(nodes._vertex[i][:-2])\n",
    "        Cells_Cord.append(Cell_Cord)   \n",
    "    return Cells_Cord\n",
    "\n",
    "Cells_Cord = cell_ver_coor()"
   ]
  },
  {
   "cell_type": "code",
   "execution_count": 36,
   "metadata": {},
   "outputs": [],
   "source": [
    "#Orthocentre\n",
    "Orthocentre = []\n",
    "for i in range(nbcells):\n",
    "    Orthocentre.append(circumcenter(Cells_Cord[i]))"
   ]
  },
  {
   "cell_type": "code",
   "execution_count": 37,
   "metadata": {},
   "outputs": [],
   "source": [
    "def save_paraview_one_variable(w, cells, nodes, dim, name):\n",
    "\n",
    "    if dim == 2:\n",
    "        elements = {\"triangle\": cells}\n",
    "    elif dim == 3:\n",
    "        elements = {\"tetra\": cells}\n",
    "\n",
    "    points = []\n",
    "    for i in nodes:\n",
    "        points.append([i[0], i[1], i[2]])\n",
    "\n",
    "    cells  = np.array(cells)\n",
    "    points = np.array(points)\n",
    "\n",
    "    data = {\"w\" : w}\n",
    "\n",
    "    if len(w) == len(cells):\n",
    "        data = {\"w\": data}\n",
    "\n",
    "    if len(w) == len(cells):\n",
    "        meshio.write_points_cells(\"visu\"+name+\".vtu\",\n",
    "                                    points, elements, cell_data=data, file_format=\"vtu\")\n",
    "    else:\n",
    "        meshio.write_points_cells(\"visu\"+str(w)+\".vtu\",\n",
    "                                    points, elements, point_data=data, file_format=\"vtu\")\n"
   ]
  },
  {
   "cell_type": "code",
   "execution_count": 38,
   "metadata": {},
   "outputs": [
    {
     "data": {
      "text/plain": [
       "1.4770561880469253"
      ]
     },
     "execution_count": 38,
     "metadata": {},
     "output_type": "execute_result"
    }
   ],
   "source": [
    "dist(Orthocentre[0],Orthocentre[1])"
   ]
  },
  {
   "cell_type": "code",
   "execution_count": 39,
   "metadata": {},
   "outputs": [],
   "source": [
    "import numpy as np\n",
    "def Sol_exact(x, y, alpha = 4):\n",
    "    return np.exp(-1*(x**2+y**2)/0.25**2)\n",
    "\n",
    "\n",
    "u_exact = [ Sol_exact(cell[0], cell[1]) for cell in domain.cells.center]\n",
    "u_exact = np.array(u_exact)\n",
    "\n",
    "save_n=0\n",
    "save_paraview_one_variable(u_exact, cells._nodeid, nodes._vertex, 2, \"res_VF4\"+str(save_n))"
   ]
  },
  {
   "cell_type": "code",
   "execution_count": 40,
   "metadata": {},
   "outputs": [
    {
     "data": {
      "text/plain": [
       "array([ 921, 1636,  917])"
      ]
     },
     "execution_count": 40,
     "metadata": {},
     "output_type": "execute_result"
    }
   ],
   "source": [
    "cells.faceid[0]"
   ]
  },
  {
   "cell_type": "code",
   "execution_count": 41,
   "metadata": {
    "collapsed": true,
    "jupyter": {
     "outputs_hidden": true,
     "source_hidden": true
    },
    "scrolled": true
   },
   "outputs": [
    {
     "data": {
      "text/plain": [
       "(482, 482, 482)"
      ]
     },
     "execution_count": 41,
     "metadata": {},
     "output_type": "execute_result"
    }
   ],
   "source": [
    "target_cells=2\n",
    "cell1 = faces.cellid[cells.faceid[target_cells]][0][1]\n",
    "cell2 = faces.cellid[cells.faceid[target_cells]][1][1]\n",
    "cell3 = faces.cellid[cells.faceid[target_cells]][2][1]\n",
    "\n",
    "cell1,cell1,cell1"
   ]
  },
  {
   "cell_type": "code",
   "execution_count": 42,
   "metadata": {},
   "outputs": [
    {
     "data": {
      "text/plain": [
       "array([ 921, 1636,  917])"
      ]
     },
     "execution_count": 42,
     "metadata": {},
     "output_type": "execute_result"
    }
   ],
   "source": [
    "target_cells=0\n",
    "\n",
    "cells.faceid[target_cells]"
   ]
  },
  {
   "cell_type": "code",
   "execution_count": 43,
   "metadata": {},
   "outputs": [
    {
     "data": {
      "text/plain": [
       "921"
      ]
     },
     "execution_count": 43,
     "metadata": {},
     "output_type": "execute_result"
    }
   ],
   "source": [
    "face=cells.faceid[target_cells][0]\n",
    "k = faces.cellid[face][0]\n",
    "l = faces.cellid[face][1]\n",
    "k,l\n",
    "face"
   ]
  },
  {
   "cell_type": "code",
   "execution_count": 44,
   "metadata": {},
   "outputs": [
    {
     "data": {
      "text/plain": [
       "0.19300810014671296"
      ]
     },
     "execution_count": 44,
     "metadata": {},
     "output_type": "execute_result"
    }
   ],
   "source": [
    "mesure = faces.mesure[face]\n",
    "mesure"
   ]
  },
  {
   "cell_type": "code",
   "execution_count": 45,
   "metadata": {},
   "outputs": [
    {
     "data": {
      "text/plain": [
       "0.08601681555623067"
      ]
     },
     "execution_count": 45,
     "metadata": {},
     "output_type": "execute_result"
    }
   ],
   "source": [
    "dist1 = dist(Orthocentre[k], Orthocentre[l])\n",
    "dist1"
   ]
  },
  {
   "cell_type": "code",
   "execution_count": 46,
   "metadata": {},
   "outputs": [
    {
     "name": "stdout",
     "output_type": "stream",
     "text": [
      "0.00016159281287490268\n"
     ]
    },
    {
     "ename": "KeyboardInterrupt",
     "evalue": "",
     "output_type": "error",
     "traceback": [
      "\u001b[0;31m---------------------------------------------------------------------------\u001b[0m",
      "\u001b[0;31mKeyboardInterrupt\u001b[0m                         Traceback (most recent call last)",
      "Cell \u001b[0;32mIn[46], line 30\u001b[0m\n\u001b[1;32m     28\u001b[0m save_n\u001b[38;5;241m+\u001b[39m\u001b[38;5;241m=\u001b[39m\u001b[38;5;241m1\u001b[39m\n\u001b[1;32m     29\u001b[0m \u001b[38;5;28;01mfor\u001b[39;00m j \u001b[38;5;129;01min\u001b[39;00m \u001b[38;5;28mrange\u001b[39m(nbcells):\n\u001b[0;32m---> 30\u001b[0m     list_faces \u001b[38;5;241m=\u001b[39m \u001b[43mcells\u001b[49m\u001b[38;5;241;43m.\u001b[39;49m\u001b[43mfaceid\u001b[49m\u001b[43m[\u001b[49m\u001b[43mj\u001b[49m\u001b[43m]\u001b[49m\n\u001b[1;32m     31\u001b[0m     elem \u001b[38;5;241m=\u001b[39m \u001b[38;5;241m0\u001b[39m\n\u001b[1;32m     32\u001b[0m     \u001b[38;5;28;01mfor\u001b[39;00m k \u001b[38;5;129;01min\u001b[39;00m \u001b[38;5;28mrange\u001b[39m(\u001b[38;5;241m3\u001b[39m):\n",
      "\u001b[0;31mKeyboardInterrupt\u001b[0m: "
     ]
    }
   ],
   "source": [
    "##---------------------Computing of dt-------------##\n",
    "somme = []\n",
    "for i in range(nbcells):\n",
    "    k = cells.volume[i]\n",
    "    list_faces = list(cells.faceid[i])\n",
    "    elem = 0\n",
    "    for j in range(3):\n",
    "        mesure1 = faces.mesure[list_faces[j]]\n",
    "        dist1 = dist(Orthocentre[list(faces.cellid[list_faces[j]])[0]],Orthocentre[list(faces.cellid[list_faces[j]])[1]])\n",
    "        elem += mesure1/dist1\n",
    "    somme += [1/k*elem]\n",
    "\n",
    "lamda = 0.8\n",
    "D = 1\n",
    "\n",
    "dt = lamda/(D * max (somme))\n",
    "\n",
    "print(dt)\n",
    "\n",
    "\n",
    "temps=0\n",
    "T=0.15\n",
    "u=u_exact\n",
    "i=0\n",
    "unew = np.zeros(nbcells)\n",
    "while temps<=T:\n",
    "    temps+=dt\n",
    "    save_n+=1\n",
    "    for j in range(nbcells):\n",
    "        list_faces = cells.faceid[j]\n",
    "        elem = 0\n",
    "        for k in range(3):\n",
    "            mesure1 = faces.mesure[list_faces[k]]\n",
    "            dist1 = dist(Orthocentre[faces.cellid[list_faces[k]][0]],Orthocentre[faces.cellid[list_faces[k]][1]])\n",
    "            if j == faces.cellid[list_faces[k]][0]:\n",
    "                u_diff = u[faces.cellid[list_faces[k]][1]] - u[faces.cellid[list_faces[k]][0]]\n",
    "            else :\n",
    "                u_diff = u[faces.cellid[list_faces[k]][0]] - u[faces.cellid[list_faces[k]][1]]\n",
    "            elem += mesure1*u_diff/dist1\n",
    "        unew[j] = u[j] - dt/(cells.volume[j]) * (-D)*elem\n",
    "\n",
    "    u=np.copy(unew)\n",
    "    i+=1\n",
    "    \n",
    "    save_paraview_one_variable(u, cells._nodeid, nodes._vertex, 2, \"res_VF4\"+str(save_n))"
   ]
  },
  {
   "cell_type": "code",
   "execution_count": null,
   "metadata": {},
   "outputs": [],
   "source": []
  },
  {
   "cell_type": "code",
   "execution_count": null,
   "metadata": {},
   "outputs": [],
   "source": []
  },
  {
   "cell_type": "code",
   "execution_count": null,
   "metadata": {},
   "outputs": [],
   "source": [
    "#####sudo apt-get install paraview"
   ]
  }
 ],
 "metadata": {
  "kernelspec": {
   "display_name": "Python 3 (ipykernel)",
   "language": "python",
   "name": "python3"
  },
  "language_info": {
   "codemirror_mode": {
    "name": "ipython",
    "version": 3
   },
   "file_extension": ".py",
   "mimetype": "text/x-python",
   "name": "python",
   "nbconvert_exporter": "python",
   "pygments_lexer": "ipython3",
   "version": "3.8.19"
  }
 },
 "nbformat": 4,
 "nbformat_minor": 4
}
