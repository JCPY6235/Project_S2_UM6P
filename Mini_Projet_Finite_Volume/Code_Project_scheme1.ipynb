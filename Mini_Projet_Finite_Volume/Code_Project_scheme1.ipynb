{
 "cells": [
  {
   "cell_type": "code",
   "execution_count": 66,
   "metadata": {},
   "outputs": [
    {
     "name": "stdout",
     "output_type": "stream",
     "text": [
      "Starting ....\n",
      "Number of Cells :  1720\n",
      "Number of Nodes :  911\n"
     ]
    }
   ],
   "source": [
    "from mpi4py import MPI\n",
    "import timeit\n",
    "import numpy as np\n",
    "import os\n",
    "import meshio\n",
    "COMM = MPI.COMM_WORLD\n",
    "SIZE = COMM.Get_size()\n",
    "RANK = COMM.Get_rank()\n",
    "\n",
    "from manapy.ddm import readmesh\n",
    "from manapy.ddm import Domain\n",
    "\n",
    "from manapy.tools.pyccel_tools import initialisation_gaussian_2d, update_new_value, time_step\n",
    "                          \n",
    "from manapy.fvm.pyccel_fvm import (explicitscheme_convective_2d,\n",
    "                                   explicitscheme_dissipative)\n",
    "\n",
    "#from manapy.ast import Variable, LinearSystem\n",
    "\n",
    "start = timeit.default_timer()\n",
    "\n",
    "# mesh directory\n",
    "\n",
    "dim = 2\n",
    "readmesh('square.msh', dim=dim, periodic=[0,0,0])\n",
    "\n",
    "#Create the informations about cells, faces and nodes\n",
    "domain = Domain(dim=dim)\n",
    "\n",
    "faces = domain.faces\n",
    "cells = domain.cells\n",
    "halos = domain.halos\n",
    "nodes = domain.nodes\n",
    "\n",
    "nbnodes = domain.nbnodes\n",
    "nbfaces = domain.nbfaces\n",
    "nbcells = domain.nbcells\n"
   ]
  },
  {
   "cell_type": "code",
   "execution_count": 67,
   "metadata": {},
   "outputs": [
    {
     "data": {
      "text/plain": [
       "1720"
      ]
     },
     "execution_count": 67,
     "metadata": {},
     "output_type": "execute_result"
    }
   ],
   "source": [
    "domain.nbcells"
   ]
  },
  {
   "cell_type": "code",
   "execution_count": 68,
   "metadata": {},
   "outputs": [],
   "source": [
    "#Cells Centre\n",
    "Cells_centre= [cell[:-1] for cell in cells._center]"
   ]
  },
  {
   "cell_type": "code",
   "execution_count": 69,
   "metadata": {},
   "outputs": [],
   "source": [
    "\n",
    "import numpy.linalg as LA\n",
    "\n",
    "def circumcenter(C):\n",
    "    ax = C[0][0]\n",
    "    ay = C[0][1]\n",
    "    bx = C[1][0]\n",
    "    by = C[1][1]\n",
    "    cx = C[2][0]\n",
    "    cy = C[2][1]\n",
    "    d = 2 * (ax * (by - cy) + bx * (cy - ay) + cx * (ay - by))\n",
    "    ux = ((ax * ax + ay * ay) * (by - cy) + (bx * bx + by * by) * (cy - ay) + (cx * cx + cy * cy) * (ay - by)) / d\n",
    "    uy = ((ax * ax + ay * ay) * (cx - bx) + (bx * bx + by * by) * (ax - cx) + (cx * cx + cy * cy) * (bx - ax)) / d\n",
    "    return (ux, uy)\n",
    "\n",
    "def dist(x, y):\n",
    "    x=np.asarray(x)\n",
    "    y=np.asarray(y)\n",
    "    return LA.norm(x - y)\n",
    "\n",
    "def norm2(exact, Sol, volume, nbelements, order):      \n",
    "    Error = np.zeros(nbelements)\n",
    "    Ex = np.zeros(nbelements)\n",
    "    for i in range(nbelements):\n",
    "        Error[i] = np.fabs(Sol[i]- exact[i]) * volume[i]\n",
    "        Ex[i] = np.fabs(exact[i]) * volume[i]\n",
    "\n",
    "    ErrorL2 = np.linalg.norm(Error,ord=order)/np.linalg.norm(Ex,ord=order)\n",
    "    return ErrorL2\n",
    "\n",
    "def cell_ver_coor():\n",
    "    Cells_Cord=[]\n",
    "    for s in cells._nodeid :\n",
    "        Cell_Cord =[]\n",
    "        for i in s :\n",
    "            Cell_Cord.append(nodes._vertex[i][:-2])\n",
    "        Cells_Cord.append(Cell_Cord)   \n",
    "    return Cells_Cord\n",
    "\n",
    "Cells_Cord = cell_ver_coor()\n",
    "#\n",
    "#Cells_Cord"
   ]
  },
  {
   "cell_type": "code",
   "execution_count": 62,
   "metadata": {},
   "outputs": [],
   "source": [
    "# Calcul de l'Orthocentre\n",
    "Orthocentre = []\n",
    "for i in range(nbcells):\n",
    "    Orthocentre.append(circumcenter(Cells_Cord[i]))\n",
    "#Orthocentre"
   ]
  },
  {
   "cell_type": "code",
   "execution_count": 64,
   "metadata": {},
   "outputs": [
    {
     "data": {
      "text/plain": [
       "1.4770561880469253"
      ]
     },
     "execution_count": 64,
     "metadata": {},
     "output_type": "execute_result"
    }
   ],
   "source": [
    "dist(Orthocentre[0],Orthocentre[1])"
   ]
  },
  {
   "cell_type": "code",
   "execution_count": 92,
   "metadata": {},
   "outputs": [],
   "source": [
    "import numpy as np\n",
    "def Sol_exact(x, y, alpha = 4):\n",
    "    return np.exp(-1*(x**2+y**2)/0.25**2)\n",
    "\n",
    "\n",
    "u_exact = [ Sol_exact(cell[0], cell[1]) for cell in domain.cells.center]\n",
    "u_exact = np.array(u_exact)\n",
    "\n",
    "save_n=0\n",
    "save_paraview_one_variable(u_exact, cells._nodeid, nodes._vertex, 2, \"res_VF4\"+str(save_n))"
   ]
  },
  {
   "cell_type": "markdown",
   "metadata": {},
   "source": [
    "# 3- Représentons $u_0$ et ses les isovaleurs de"
   ]
  },
  {
   "cell_type": "code",
   "execution_count": 29,
   "metadata": {},
   "outputs": [
    {
     "data": {
      "image/png": "[encoded data removed]",
      "text/plain": [
       "<Figure size 640x480 with 2 Axes>"
      ]
     },
     "metadata": {},
     "output_type": "display_data"
    }
   ],
   "source": [
    "import numpy as np\n",
    "import matplotlib.pyplot as plt\n",
    "from matplotlib.tri import Triangulation\n",
    "def plot_isovaleurs(Orthocentre, u):\n",
    "   triang = Triangulation(Orthocentre[:, 0], Orthocentre[:, 1])\n",
    "   plt.figure()\n",
    "   plt.tricontourf(triang, u, levels=14)  # 14 niveaux de contour\n",
    "   plt.colorbar()\n",
    "   plt.title(\"isovaleur\")\n",
    "   plt.xlabel('X')\n",
    "   plt.ylabel('Y')\n",
    "   plt.show()\n",
    "Orthocentre = np.array(Orthocentre)\n",
    "plot_isovaleurs(Orthocentre, u_exact)"
   ]
  },
  {
   "cell_type": "markdown",
   "metadata": {},
   "source": []
  },
  {
   "cell_type": "code",
   "execution_count": 31,
   "metadata": {},
   "outputs": [
    {
     "name": "stdout",
     "output_type": "stream",
     "text": [
      "0.00016159281287490268\n"
     ]
    }
   ],
   "source": [
    "##---------------------Computing of dt-------------##\n",
    "somme = []\n",
    "for i in range(nbcells):\n",
    "    k = cells.volume[i]\n",
    "    list_faces = list(cells.faceid[i])\n",
    "    elem = 0\n",
    "    for j in range(3):\n",
    "        mesure1 = faces.mesure[list_faces[j]]\n",
    "        dist1 = dist(Orthocentre[list(faces.cellid[list_faces[j]])[0]],Orthocentre[list(faces.cellid[list_faces[j]])[1]])\n",
    "        elem += mesure1/dist1\n",
    "    somme += [1/k*elem]\n",
    "\n",
    "lamda = 0.8\n",
    "D = 1\n",
    "\n",
    "dt = lamda/(D * max (somme))\n",
    "\n",
    "print(dt)\n",
    "\n",
    "\n",
    "temps=0\n",
    "T=0.15\n",
    "u=u_exact\n",
    "i=0\n",
    "unew = np.zeros(nbcells)\n",
    "while temps<=T:\n",
    "    temps+=dt\n",
    "    save_n+=1\n",
    "    for j in range(nbcells):\n",
    "        list_faces = cells.faceid[j]\n",
    "        elem = 0\n",
    "        for k in range(3):\n",
    "            mesure1 = faces.mesure[list_faces[k]]\n",
    "            dist1 = dist(Orthocentre[faces.cellid[list_faces[k]][0]],Orthocentre[faces.cellid[list_faces[k]][1]])\n",
    "            if j == faces.cellid[list_faces[k]][0]:\n",
    "                u_diff = u[faces.cellid[list_faces[k]][1]] - u[faces.cellid[list_faces[k]][0]]\n",
    "            else :\n",
    "                u_diff = u[faces.cellid[list_faces[k]][0]] - u[faces.cellid[list_faces[k]][1]]\n",
    "            elem += mesure1*u_diff/dist1\n",
    "        unew[j] = u[j] - dt/(cells.volume[j]) * (-D)*elem\n",
    "\n",
    "    u=np.copy(unew)\n",
    "    i+=1\n",
    "    if i == 100 or i == 150 or i== 200:\n",
    "       save_paraview_one_variable(u, cells._nodeid, nodes._vertex, 2, \"res_VF4\"+str(save_n))\n",
    "       \n",
    "save_paraview_one_variable(u, cells._nodeid, nodes._vertex, 2, \"res_VF4\"+str(save_n))\n",
    "    "
   ]
  },
  {
   "cell_type": "code",
   "execution_count": 32,
   "metadata": {},
   "outputs": [
    {
     "data": {
      "image/png": "[encoded data removed]",
      "text/plain": [
       "<Figure size 640x480 with 2 Axes>"
      ]
     },
     "metadata": {},
     "output_type": "display_data"
    }
   ],
   "source": [
    "plot_isovaleurs(Orthocentre, u)"
   ]
  },
  {
   "cell_type": "markdown",
   "metadata": {},
   "source": [
    "## TESt2"
   ]
  },
  {
   "cell_type": "code",
   "execution_count": 138,
   "metadata": {},
   "outputs": [],
   "source": [
    "def distance_point_segment(P, A, B):\n",
    "   # Convertir les points en numpy arrays pour faciliter les calculs\n",
    "   P = np.array(P)\n",
    "   A = np.array(A)\n",
    "   B = np.array(B)\n",
    "   \n",
    "   # Vecteur AB\n",
    "   AB = B - A\n",
    "   # Vecteur AP\n",
    "   AP = P - A\n",
    "   \n",
    "   # Projection de AP sur AB\n",
    "   t = np.dot(AP, AB) / np.dot(AB, AB)\n",
    "   \n",
    "   # Trouver le point de projection sur le segment\n",
    "   if t < 0.0:\n",
    "       point_projection = A\n",
    "   elif t > 1.0:\n",
    "       point_projection = B\n",
    "   else:\n",
    "       point_projection = A + t * AB\n",
    "   \n",
    "   # Calculer la distance entre P et le point de projection\n",
    "   distance = np.linalg.norm(P - point_projection)\n",
    "   \n",
    "   return distance\n",
    "\n",
    "def barycentre(C):\n",
    "   \"\"\"\n",
    "   Calcule le barycentre d'un triangle.\n",
    "   \n",
    "   Paramètres :\n",
    "   C (numpy.ndarray) : Un tableau de forme (3, 2) contenant les coordonnées des sommets du triangle.\n",
    "   \n",
    "   Retour :\n",
    "   tuple : Les coordonnées (x, y) du barycentre.\n",
    "   \"\"\"\n",
    "   ax, ay = C[0][0], C[0][1]\n",
    "   bx, by = C[1][0], C[1][1]\n",
    "   cx, cy = C[2][0], C[2][1]\n",
    "   \n",
    "   # Calcul du barycentre\n",
    "   x = (ax + bx + cx) / 3.0\n",
    "   y = (ay + by + cy) / 3.0\n",
    "   \n",
    "   return (x, y)\n",
    "\n",
    "def get_coord(k):\n",
    "    C = Cells_Cord[k]\n",
    "    ax, ay = Cells_Cord[k][0][0], Cells_Cord[k][0][1]\n",
    "    bx, by = Cells_Cord[k][1][0], Cells_Cord[k][1][1]\n",
    "    cx, cy = Cells_Cord[k][2][0], Cells_Cord[k][2][1]\n",
    "    return [(ax,ay), (bx,by), (cx,cy)]\n",
    "def Distances(k):\n",
    "    list_faces = list(cells.faceid[k])\n",
    "    sum = 0\n",
    "    for edge in list_faces:\n",
    "        triangles = faces.cellid[edge]\n",
    "        vect1= get_coord[triangles[0]]\n",
    "        vect2 = get_coord[triangles[1]]\n",
    "        common_vertix = list(set(vect1) & set(vect2)\n",
    "        B1 = barycentre(vect1)\n",
    "        B2 = barycentre(vect2)\n",
    "        dist1 = distance_point_segment(B1,coord[0],coord[1])\n",
    "        dist2 = distance_point_segment(B2, coord[0],coord[1])\n",
    "\n",
    "        mesure_edge = faces.mesure[edge]\n",
    "        dist = mesure_edge/(dist1 + dist2)\n",
    "        sum+=dist\n",
    "    return sum\n",
    "\n"
   ]
  },
  {
   "cell_type": "code",
   "execution_count": 140,
   "metadata": {},
   "outputs": [
    {
     "data": {
      "text/plain": [
       "[(-1.483458970144255, -1.779255838336899),\n",
       " (-1.389710547714234, -1.685670255544706),\n",
       " (-1.498547216717301, -1.661261168656972)]"
      ]
     },
     "execution_count": 140,
     "metadata": {},
     "output_type": "execute_result"
    }
   ],
   "source": [
    "get_coord(-1)"
   ]
  },
  {
   "cell_type": "code",
   "execution_count": 123,
   "metadata": {},
   "outputs": [
    {
     "data": {
      "text/plain": [
       "[47, 51, 49]"
      ]
     },
     "execution_count": 123,
     "metadata": {},
     "output_type": "execute_result"
    }
   ],
   "source": [
    "list(cells.faceid[36])# Les arrêtes du triangle 36"
   ]
  },
  {
   "cell_type": "code",
   "execution_count": 124,
   "metadata": {},
   "outputs": [
    {
     "data": {
      "text/plain": [
       "array([36, -1])"
      ]
     },
     "execution_count": 124,
     "metadata": {},
     "output_type": "execute_result"
    }
   ],
   "source": [
    "faces.cellid[47] #Les trangles ayants le côté 47 en communs "
   ]
  },
  {
   "cell_type": "code",
   "execution_count": 126,
   "metadata": {},
   "outputs": [
    {
     "data": {
      "text/plain": [
       "array([290, 787, 866])"
      ]
     },
     "execution_count": 126,
     "metadata": {},
     "output_type": "execute_result"
    }
   ],
   "source": [
    "cells._nodeid[-1]#Les noeuds de du triangle -1"
   ]
  },
  {
   "cell_type": "code",
   "execution_count": 127,
   "metadata": {},
   "outputs": [
    {
     "data": {
      "text/plain": [
       "array([ 15,  16, 611])"
      ]
     },
     "execution_count": 127,
     "metadata": {},
     "output_type": "execute_result"
    }
   ],
   "source": [
    "cells._nodeid[36]"
   ]
  },
  {
   "cell_type": "code",
   "execution_count": 133,
   "metadata": {},
   "outputs": [
    {
     "data": {
      "text/plain": [
       "array([15, 16])"
      ]
     },
     "execution_count": 133,
     "metadata": {},
     "output_type": "execute_result"
    }
   ],
   "source": [
    "faces.nodeid[47]"
   ]
  },
  {
   "cell_type": "code",
   "execution_count": null,
   "metadata": {},
   "outputs": [],
   "source": []
  },
  {
   "cell_type": "code",
   "execution_count": null,
   "metadata": {},
   "outputs": [],
   "source": [
    "somme = 0\n",
    "for i in range(nbcells):\n",
    "    k = cells.volume[i]\n",
    "    dist = Distances(i)\n",
    "    print(dist)\n",
    "    #somme = max(somme, 1/k*dist)\n",
    "\n",
    "lamda = 0.8\n",
    "D = 1\n",
    "\n",
    "dt = lamda/(D * somme)\n",
    "\n",
    "print(dt)\n"
   ]
  },
  {
   "cell_type": "code",
   "execution_count": null,
   "metadata": {},
   "outputs": [],
   "source": []
  },
  {
   "cell_type": "code",
   "execution_count": null,
   "metadata": {},
   "outputs": [],
   "source": []
  },
  {
   "cell_type": "code",
   "execution_count": null,
   "metadata": {},
   "outputs": [],
   "source": []
  }
 ],
 "metadata": {
  "kernelspec": {
   "display_name": "manapy",
   "language": "python",
   "name": "python3"
  },
  "language_info": {
   "codemirror_mode": {
    "name": "ipython",
    "version": 3
   },
   "file_extension": ".py",
   "mimetype": "text/x-python",
   "name": "python",
   "nbconvert_exporter": "python",
   "pygments_lexer": "ipython3",
   "version": "3.8.19"
  }
 },
 "nbformat": 4,
 "nbformat_minor": 2
}
