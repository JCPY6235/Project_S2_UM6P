{
 "cells": [
  {
   "cell_type": "code",
   "execution_count": 2,
   "metadata": {},
   "outputs": [
    {
     "name": "stdout",
     "output_type": "stream",
     "text": [
      "Starting ....\n",
      "Number of Cells :  4636\n",
      "Number of Nodes :  2409\n"
     ]
    }
   ],
   "source": [
    "#!/usr/bin/env python3\n",
    "# -*- coding: utf-8 -*-\n",
    "\"\"\"\n",
    "Created on Wed Feb 16 09:13:21 2022\n",
    "@author: ismail.oubarka\n",
    "\"\"\"\n",
    "\n",
    "from mpi4py import MPI\n",
    "import timeit\n",
    "\n",
    "COMM = MPI.COMM_WORLD\n",
    "SIZE = COMM.Get_size()\n",
    "RANK = COMM.Get_rank()\n",
    "\n",
    "from manapy.ddm import readmesh\n",
    "from manapy.ddm import Domain\n",
    "\n",
    "from manapy.tools.pyccel_tools import initialisation_gaussian_2d, update_new_value, time_step\n",
    "                          \n",
    "from manapy.fvm.pyccel_fvm import (explicitscheme_convective_2d,\n",
    "                                   explicitscheme_dissipative)\n",
    "\n",
    "#from manapy.ast import Variable, LinearSystem\n",
    "\n",
    "import numpy as np\n",
    "import os\n",
    "\n",
    "start = timeit.default_timer()\n",
    "\n",
    "# mesh directory\n",
    "\n",
    "dim = 2\n",
    "readmesh('/home/ayoub.daoudia/Masters/Advanced Computational Methods/S2/TP/test2.msh', dim=dim, periodic=[0,0,0])\n",
    "\n",
    "#Create the informations about cells, faces and nodes\n",
    "domain = Domain(dim=dim)\n",
    "\n",
    "faces = domain.faces\n",
    "cells = domain.cells\n",
    "halos = domain.halos\n",
    "nodes = domain.nodes\n",
    "\n",
    "nbnodes = domain.nbnodes\n",
    "nbfaces = domain.nbfaces\n",
    "nbcells = domain.nbcells\n"
   ]
  },
  {
   "cell_type": "code",
   "execution_count": 3,
   "metadata": {},
   "outputs": [
    {
     "data": {
      "text/plain": [
       "4636"
      ]
     },
     "execution_count": 3,
     "metadata": {},
     "output_type": "execute_result"
    }
   ],
   "source": [
    "domain.nbcells"
   ]
  },
  {
   "cell_type": "code",
   "execution_count": 4,
   "metadata": {},
   "outputs": [],
   "source": [
    "#Cells Centre\n",
    "Cells_centre= [cell[:-1] for cell in cells._center]"
   ]
  },
  {
   "cell_type": "code",
   "execution_count": 5,
   "metadata": {},
   "outputs": [],
   "source": [
    "import numpy.linalg as LA\n",
    "\n",
    "def circumcenter(C):\n",
    "    ax = C[0][0]\n",
    "    ay = C[0][1]\n",
    "    bx = C[1][0]\n",
    "    by = C[1][1]\n",
    "    cx = C[2][0]\n",
    "    cy = C[2][1]\n",
    "    d = 2 * (ax * (by - cy) + bx * (cy - ay) + cx * (ay - by))\n",
    "    ux = ((ax * ax + ay * ay) * (by - cy) + (bx * bx + by * by) * (cy - ay) + (cx * cx + cy * cy) * (ay - by)) / d\n",
    "    uy = ((ax * ax + ay * ay) * (cx - bx) + (bx * bx + by * by) * (ax - cx) + (cx * cx + cy * cy) * (bx - ax)) / d\n",
    "    return (ux, uy)\n",
    "\n",
    "def dist(x, y):\n",
    "    x=np.asarray(x)\n",
    "    y=np.asarray(y)\n",
    "    return LA.norm(x - y)"
   ]
  },
  {
   "cell_type": "code",
   "execution_count": 6,
   "metadata": {},
   "outputs": [],
   "source": [
    "def norm2(exact, Sol, volume, nbelements, order):      \n",
    "    Error = np.zeros(nbelements)\n",
    "    Ex = np.zeros(nbelements)\n",
    "    for i in range(nbelements):\n",
    "        Error[i] = np.fabs(Sol[i]- exact[i]) * volume[i]\n",
    "        Ex[i] = np.fabs(exact[i]) * volume[i]\n",
    "\n",
    "    ErrorL2 = np.linalg.norm(Error,ord=order)/np.linalg.norm(Ex,ord=order)\n",
    "    return ErrorL2"
   ]
  },
  {
   "cell_type": "code",
   "execution_count": 7,
   "metadata": {},
   "outputs": [],
   "source": [
    "def cell_ver_coor():\n",
    "    Cells_Cord=[]\n",
    "    for s in cells._nodeid :\n",
    "        Cell_Cord =[]\n",
    "        for i in s :\n",
    "            Cell_Cord.append(nodes._vertex[i][:-2])\n",
    "        Cells_Cord.append(Cell_Cord)   \n",
    "    return Cells_Cord\n",
    "\n",
    "Cells_Cord = cell_ver_coor()"
   ]
  },
  {
   "cell_type": "code",
   "execution_count": 8,
   "metadata": {},
   "outputs": [],
   "source": [
    "#Orthocentre\n",
    "Orthocentre = []\n",
    "for i in range(nbcells):\n",
    "    Orthocentre.append(circumcenter(Cells_Cord[i]))"
   ]
  },
  {
   "cell_type": "code",
   "execution_count": 9,
   "metadata": {},
   "outputs": [],
   "source": [
    " def save_paraview_one_variable(w, cells, nodes, dim, name):\n",
    "    \n",
    "    if dim == 2:\n",
    "        elements = {\"triangle\": cells}\n",
    "    elif dim == 3:\n",
    "        elements = {\"tetra\": cells}\n",
    "\n",
    "    points = []\n",
    "    for i in nodes:\n",
    "        points.append([i[0], i[1], i[2]])\n",
    "    \n",
    "    cells  = np.array(cells)\n",
    "    points = np.array(points)\n",
    "    \n",
    "    data = {\"w_v1\" : w}\n",
    "   \n",
    "    if len(w) == len(cells):\n",
    "        data = {\"w_v1\": data}\n",
    "\n",
    "    if len(w) == len(cells):\n",
    "        meshio.write_points_cells(\"results_2_v1/visu\"+name+\".vtu\",\n",
    "                                  points, elements, cell_data=data, file_format=\"vtu\")\n",
    "    else:\n",
    "        meshio.write_points_cells(\"results_2_v1/visu\"+str(w)+\".vtu\",\n",
    "                                  points, elements, point_data=data, file_format=\"vtu\")\n"
   ]
  },
  {
   "cell_type": "code",
   "execution_count": 10,
   "metadata": {},
   "outputs": [
    {
     "data": {
      "text/plain": [
       "104.3231471212392"
      ]
     },
     "execution_count": 10,
     "metadata": {},
     "output_type": "execute_result"
    }
   ],
   "source": [
    "dist(Orthocentre[0],Orthocentre[1])"
   ]
  },
  {
   "cell_type": "code",
   "execution_count": 11,
   "metadata": {},
   "outputs": [
    {
     "data": {
      "text/plain": [
       "array([0., 2., 3., 4., 5.])"
      ]
     },
     "execution_count": 11,
     "metadata": {},
     "output_type": "execute_result"
    }
   ],
   "source": [
    "np.unique(nodes.vertex[:,3])"
   ]
  },
  {
   "cell_type": "code",
   "execution_count": 12,
   "metadata": {},
   "outputs": [],
   "source": [
    "cells_dict = {\"Bottom\":[],\n",
    "             \"Right\":[],\n",
    "             \"Top\":[],\n",
    "             \"Left\":[]}\n",
    "for i in range(nbcells):\n",
    "    for j in range(3):\n",
    "        if nodes.vertex[cells.nodeid[i][j]][3] == 2:\n",
    "#             print(\"Bottom\", i)\n",
    "            cells_dict[\"Bottom\"] += [i]\n",
    "            break\n",
    "        elif nodes.vertex[cells.nodeid[i][j]][3] == 3:\n",
    "#             print(\"Right\", i)\n",
    "            cells_dict[\"Right\"] += [i]\n",
    "            break\n",
    "        elif nodes.vertex[cells.nodeid[i][j]][3] == 4:\n",
    "#             print(\"Top\", i)\n",
    "            cells_dict[\"Top\"] += [i]\n",
    "            break\n",
    "        elif nodes.vertex[cells.nodeid[i][j]][3] == 5:\n",
    "#             print(\"Left\", i)\n",
    "            cells_dict[\"Left\"] += [i]\n",
    "            break\n"
   ]
  },
  {
   "cell_type": "code",
   "execution_count": 176,
   "metadata": {},
   "outputs": [],
   "source": [
    "import meshio\n",
    "import numpy as np\n",
    "def Sol_init():\n",
    "    return 0\n",
    "\n",
    "\n",
    "u_init = []\n",
    "for i in range(nbcells):\n",
    "    if i in (cells_dict[\"Bottom\"] or cells_dict[\"Right\"]):\n",
    "        u_init += [0]\n",
    "    elif i in cells_dict[\"Top\"]:\n",
    "        u_init += [10]\n",
    "    elif i in cells_dict[\"Left\"]:\n",
    "        u_init += [20]\n",
    "    else :\n",
    "        u_init += [Sol_init()]\n",
    "u_init = np.array(u_init)\n",
    "\n",
    "\n",
    "save_n=0\n",
    "save_paraview_one_variable(u_init, cells._nodeid, nodes._vertex, 2, \"res_VF4\"+str(save_n))"
   ]
  },
  {
   "cell_type": "code",
   "execution_count": 177,
   "metadata": {},
   "outputs": [
    {
     "data": {
      "text/plain": [
       "array([4115, 4918, 4113])"
      ]
     },
     "execution_count": 177,
     "metadata": {},
     "output_type": "execute_result"
    }
   ],
   "source": [
    "cells.faceid[0]"
   ]
  },
  {
   "cell_type": "code",
   "execution_count": 178,
   "metadata": {},
   "outputs": [
    {
     "data": {
      "text/plain": [
       "array([ 4.84290593, 17.16035315,  0.        ])"
      ]
     },
     "execution_count": 178,
     "metadata": {},
     "output_type": "execute_result"
    }
   ],
   "source": [
    "cells.center[0]"
   ]
  },
  {
   "cell_type": "code",
   "execution_count": 179,
   "metadata": {
    "scrolled": true
   },
   "outputs": [
    {
     "data": {
      "text/plain": [
       "(array([ 809, 5514,  808]),\n",
       " array([ 2, 16]),\n",
       " array([   2, 1135]),\n",
       " array([ 2, 82]))"
      ]
     },
     "execution_count": 179,
     "metadata": {},
     "output_type": "execute_result"
    }
   ],
   "source": [
    "target_cells=2\n",
    "cell1 = faces.cellid[cells.faceid[target_cells]][0]\n",
    "cell2 = faces.cellid[cells.faceid[target_cells]][1]\n",
    "cell3 = faces.cellid[cells.faceid[target_cells]][2]\n",
    "\n",
    "cells.faceid[target_cells],cell1,cell2,cell3"
   ]
  },
  {
   "cell_type": "code",
   "execution_count": 180,
   "metadata": {},
   "outputs": [
    {
     "data": {
      "text/plain": [
       "array([4115, 4918, 4113])"
      ]
     },
     "execution_count": 180,
     "metadata": {},
     "output_type": "execute_result"
    }
   ],
   "source": [
    "target_cells=0\n",
    "\n",
    "cells.faceid[target_cells]"
   ]
  },
  {
   "cell_type": "code",
   "execution_count": 181,
   "metadata": {},
   "outputs": [
    {
     "data": {
      "text/plain": [
       "(array([4115, 4918, 4113]), array([ 0, 29]), array([ 0, 36]))"
      ]
     },
     "execution_count": 181,
     "metadata": {},
     "output_type": "execute_result"
    }
   ],
   "source": [
    "face=cells.faceid[target_cells]\n",
    "k = faces.cellid[face][0]\n",
    "l = faces.cellid[face][1]\n",
    "\n",
    "face,k,l"
   ]
  },
  {
   "cell_type": "code",
   "execution_count": 182,
   "metadata": {},
   "outputs": [
    {
     "data": {
      "text/plain": [
       "array([2.2979952 , 2.38815291, 2.00925498])"
      ]
     },
     "execution_count": 182,
     "metadata": {},
     "output_type": "execute_result"
    }
   ],
   "source": [
    "mesure = faces.mesure[face]\n",
    "mesure"
   ]
  },
  {
   "cell_type": "code",
   "execution_count": 183,
   "metadata": {},
   "outputs": [
    {
     "data": {
      "text/plain": [
       "0.7482953295491088"
      ]
     },
     "execution_count": 183,
     "metadata": {},
     "output_type": "execute_result"
    }
   ],
   "source": [
    "dist1 = dist(Orthocentre[k[0]], Orthocentre[l[1]])\n",
    "dist1"
   ]
  },
  {
   "cell_type": "code",
   "execution_count": 184,
   "metadata": {},
   "outputs": [
    {
     "data": {
      "text/plain": [
       "array([1060, 2983])"
      ]
     },
     "execution_count": 184,
     "metadata": {},
     "output_type": "execute_result"
    }
   ],
   "source": [
    "faces.cellid[cells.faceid[1060][0]]"
   ]
  },
  {
   "cell_type": "code",
   "execution_count": 185,
   "metadata": {},
   "outputs": [
    {
     "name": "stdout",
     "output_type": "stream",
     "text": [
      "0.11934628745173964\n",
      "100 11.934628745173951\n",
      "200 23.86925749034797\n",
      "300 35.80388623552205\n",
      "400 47.73851498069613\n"
     ]
    }
   ],
   "source": [
    "# Calcul de dt\n",
    "somme = []\n",
    "for i in range(nbcells):\n",
    "    k = cells.volume[i]\n",
    "    list_faces = list(cells.faceid[i])\n",
    "    elem = 0\n",
    "    for j in range(3):\n",
    "        mesure1 = faces.mesure[list_faces[j]]\n",
    "        dist1 = dist(Orthocentre[list(faces.cellid[list_faces[j]])[0]],Orthocentre[list(faces.cellid[list_faces[j]])[1]])\n",
    "        elem += mesure1/dist1\n",
    "    somme += [1/k*elem]\n",
    "\n",
    "lamda = 0.8\n",
    "D = 1\n",
    "# Fin de calcul\n",
    "dt = lamda/(D * max (somme))\n",
    "print(dt)\n",
    "\n",
    "save_n = 0\n",
    "temps=0\n",
    "T=50\n",
    "u_v1=np.copy(u_init)\n",
    "i=0\n",
    "unew = np.zeros(nbcells)\n",
    "while temps<=T:\n",
    "    temps+=dt\n",
    "    save_n+=1\n",
    "    \n",
    "    for j in range(nbcells):\n",
    "        list_faces = cells.faceid[j]\n",
    "        elem = 0\n",
    "        for k in range(3):\n",
    "            mesure1 = faces.mesure[list_faces[k]]\n",
    "            dist1 = dist(Orthocentre[faces.cellid[list_faces[k]][0]],Orthocentre[faces.cellid[list_faces[k]][1]])\n",
    "            if j == faces.cellid[list_faces[k]][0]:\n",
    "                u_diff = u_v1[faces.cellid[list_faces[k]][1]] - u_v1[faces.cellid[list_faces[k]][0]]\n",
    "            else :\n",
    "                u_diff = u_v1[faces.cellid[list_faces[k]][0]] - u_v1[faces.cellid[list_faces[k]][1]]\n",
    "            elem += mesure1*u_diff/dist1\n",
    "        unew[j] = u_v1[j] - dt/(cells.volume[j]) * (-D)*elem\n",
    "        if j in (cells_dict[\"Bottom\"] or cells_dict[\"Right\"]):\n",
    "            unew[j] = 0\n",
    "        elif j in cells_dict[\"Top\"]:\n",
    "            unew[j] = 10\n",
    "        elif j in cells_dict[\"Left\"]:\n",
    "            unew[j] = 20\n",
    "\n",
    "    u_v1=np.copy(unew)\n",
    "    i+=1\n",
    "    if i % 100 == 0:\n",
    "        print(i, temps)\n",
    "    save_paraview_one_variable(u_v1, cells._nodeid, nodes._vertex, 2, \"res_VF4\"+str(save_n))"
   ]
  },
  {
   "cell_type": "code",
   "execution_count": 186,
   "metadata": {},
   "outputs": [
    {
     "name": "stdout",
     "output_type": "stream",
     "text": [
      "419 50.006094442279206\n"
     ]
    }
   ],
   "source": [
    "print(i,temps)"
   ]
  },
  {
   "cell_type": "code",
   "execution_count": 13,
   "metadata": {},
   "outputs": [],
   "source": [
    " def save_paraview_one_variable(w, cells, nodes, dim, name):\n",
    "    \n",
    "    if dim == 2:\n",
    "        elements = {\"triangle\": cells}\n",
    "    elif dim == 3:\n",
    "        elements = {\"tetra\": cells}\n",
    "\n",
    "    points = []\n",
    "    for i in nodes:\n",
    "        points.append([i[0], i[1], i[2]])\n",
    "    \n",
    "    cells  = np.array(cells)\n",
    "    points = np.array(points)\n",
    "    \n",
    "    data = {\"w\" : w}\n",
    "   \n",
    "    if len(w) == len(cells):\n",
    "        data = {\"w\": data}\n",
    "\n",
    "    if len(w) == len(cells):\n",
    "        meshio.write_points_cells(\"results_2_v2/visu\"+name+\".vtu\",\n",
    "                                  points, elements, cell_data=data, file_format=\"vtu\")\n",
    "    else:\n",
    "        meshio.write_points_cells(\"results_2_v2/visu\"+str(w)+\".vtu\",\n",
    "                                  points, elements, point_data=data, file_format=\"vtu\")\n"
   ]
  },
  {
   "cell_type": "code",
   "execution_count": 14,
   "metadata": {},
   "outputs": [],
   "source": [
    "import meshio\n",
    "import numpy as np\n",
    "def Sol_init():\n",
    "    return 0\n",
    "\n",
    "\n",
    "u_init = []\n",
    "for i in range(nbcells):\n",
    "    if i in (cells_dict[\"Bottom\"] or cells_dict[\"Right\"]):\n",
    "        u_init += [0]\n",
    "    elif i in cells_dict[\"Top\"]:\n",
    "        u_init += [10]\n",
    "    elif i in cells_dict[\"Left\"]:\n",
    "        u_init += [20]\n",
    "    else :\n",
    "        u_init += [Sol_init()]\n",
    "u_init = np.array(u_init)\n",
    "\n",
    "\n",
    "save_n=0\n",
    "save_paraview_one_variable(u_init, cells._nodeid, nodes._vertex, 2, \"res_VF4\"+str(save_n))"
   ]
  },
  {
   "cell_type": "code",
   "execution_count": 15,
   "metadata": {},
   "outputs": [],
   "source": [
    "def centroid(C):\n",
    "    ax = C[0][0]\n",
    "    ay = C[0][1]\n",
    "    bx = C[1][0]\n",
    "    by = C[1][1]\n",
    "    cx = C[2][0]\n",
    "    cy = C[2][1]\n",
    "    return ((ax+bx+cx)/3,(ay+by+cy)/3)\n",
    "\n",
    "Barycentre = []\n",
    "for i in range(nbcells):\n",
    "    Barycentre.append(centroid(Cells_Cord[i]))"
   ]
  },
  {
   "cell_type": "code",
   "execution_count": 16,
   "metadata": {},
   "outputs": [],
   "source": [
    "# Faces_Cord[921],Faces_Cord[1636],Faces_Cord[917], cells.faceid[0]"
   ]
  },
  {
   "cell_type": "code",
   "execution_count": 17,
   "metadata": {},
   "outputs": [],
   "source": [
    "# faces.f_1[0], faces.f_2[0], faces.f_3[0], faces.f_4[0], faces.center[0],Cells_Cord[0]"
   ]
  },
  {
   "cell_type": "code",
   "execution_count": 18,
   "metadata": {},
   "outputs": [
    {
     "data": {
      "text/plain": [
       "array([4515,   -1])"
      ]
     },
     "execution_count": 18,
     "metadata": {},
     "output_type": "execute_result"
    }
   ],
   "source": [
    "# faces.center[cells.faceid[0][0],:-1]\n",
    "faces.cellid[1]\n",
    "# cells.faceid[543]\n",
    "# cells.faceid[0][0]\n",
    "# nodes.vertex[10]\n",
    "# faces.nodeid[0]"
   ]
  },
  {
   "cell_type": "code",
   "execution_count": 19,
   "metadata": {},
   "outputs": [],
   "source": [
    "def face_ver_coor():\n",
    "    Faces_Cord=[]\n",
    "    for s in faces._nodeid :\n",
    "        Face_Cord =[]\n",
    "        for i in s :\n",
    "            Face_Cord.append(nodes._vertex[i][:-2])\n",
    "        Faces_Cord.append(Face_Cord)   \n",
    "    return Faces_Cord\n",
    "\n",
    "Faces_Cord = face_ver_coor()"
   ]
  },
  {
   "cell_type": "code",
   "execution_count": 20,
   "metadata": {},
   "outputs": [],
   "source": [
    "def projection_point_on_line(point, line_start, line_end):\n",
    "    line_vec = np.array(line_end) - np.array(line_start)\n",
    "    point_vec = np.array(point) - np.array(line_start)\n",
    "    line_len = np.linalg.norm(line_vec)\n",
    "    line_unitvec = line_vec / line_len\n",
    "    point_vec_scaled = point_vec / line_len\n",
    "    t = np.dot(line_unitvec, point_vec_scaled)\n",
    "    t = np.clip(t, 0, 1)  # Ensure the projection is on the line segment\n",
    "    nearest = np.array(line_start) + t * line_vec\n",
    "    return nearest"
   ]
  },
  {
   "cell_type": "code",
   "execution_count": 21,
   "metadata": {},
   "outputs": [],
   "source": [
    "def dist_bary_edge(bary, edge_vertices):\n",
    "    edge_start, edge_end = edge_vertices\n",
    "    proj_point = projection_point_on_line(bary, edge_start, edge_end)\n",
    "    return dist(bary, proj_point)"
   ]
  },
  {
   "cell_type": "code",
   "execution_count": 22,
   "metadata": {},
   "outputs": [
    {
     "data": {
      "text/plain": [
       "([array([40.        , 59.21539031]), array([41.       , 57.4833395])],\n",
       " [array([48.        , 24.57437416]), array([49.        , 22.84232335])],\n",
       " [array([38.        , 59.21539031]), array([39.       , 57.4833395])],\n",
       " array([4115, 4918, 4113]))"
      ]
     },
     "execution_count": 22,
     "metadata": {},
     "output_type": "execute_result"
    }
   ],
   "source": [
    "Faces_Cord[921],Faces_Cord[1636],Faces_Cord[917], cells.faceid[0]"
   ]
  },
  {
   "cell_type": "code",
   "execution_count": null,
   "metadata": {},
   "outputs": [
    {
     "name": "stdout",
     "output_type": "stream",
     "text": [
      "0.11934628745173964\n",
      "100 11.934628745173951\n"
     ]
    }
   ],
   "source": [
    "# Calcul de dt\n",
    "somme = []\n",
    "for i in range(nbcells):\n",
    "    k = cells.volume[i]\n",
    "    list_faces = list(cells.faceid[i])\n",
    "    elem = 0\n",
    "    for j in range(3):\n",
    "        mesure1 = faces.mesure[list_faces[j]]\n",
    "        dist1 = dist(Orthocentre[list(faces.cellid[list_faces[j]])[0]],Orthocentre[list(faces.cellid[list_faces[j]])[1]])\n",
    "        elem += mesure1/dist1\n",
    "    somme += [1/k*elem]\n",
    "\n",
    "lamda = 0.8\n",
    "D = 1\n",
    "# Fin de calcul\n",
    "dt = lamda/(D * max (somme))\n",
    "print(dt)\n",
    "\n",
    "save_n = 0\n",
    "temps=0\n",
    "T=100\n",
    "u_v2=np.copy(u_init)\n",
    "i=0\n",
    "unew = np.zeros(nbcells)\n",
    "while temps<=T:\n",
    "    temps+=dt\n",
    "    save_n+=1\n",
    "    \n",
    "    for j in range(nbcells):\n",
    "        list_faces = cells.faceid[j]\n",
    "        elem = 0\n",
    "        for k in range(3):\n",
    "            idcell1 = faces.cellid[list_faces[k]][0]\n",
    "            idcell2 = faces.cellid[list_faces[k]][1]\n",
    "            mesure1 = faces.mesure[list_faces[k]]\n",
    "#             dist1 = dist(Orthocentre[faces.cellid[list_faces[k]][0]],Orthocentre[faces.cellid[list_faces[k]][1]])\n",
    "            dist1 = dist_bary_edge(Barycentre[idcell1],Faces_Cord[list_faces[k]])\n",
    "            dist2 = dist_bary_edge(Barycentre[idcell2],Faces_Cord[list_faces[k]])\n",
    "            if j == faces.cellid[list_faces[k]][0]:\n",
    "                u_diff = u_v2[faces.cellid[list_faces[k]][1]] - u_v2[faces.cellid[list_faces[k]][0]]\n",
    "            else :\n",
    "                u_diff = u_v2[faces.cellid[list_faces[k]][0]] - u_v2[faces.cellid[list_faces[k]][1]]\n",
    "            elem += mesure1*u_diff/dist1\n",
    "        unew[j] = u_v2[j] - dt/(cells.volume[j]) * (-D)*elem\n",
    "        if j in (cells_dict[\"Bottom\"] or cells_dict[\"Right\"]):\n",
    "            unew[j] = 0\n",
    "        elif j in cells_dict[\"Top\"]:\n",
    "            unew[j] = 10\n",
    "        elif j in cells_dict[\"Left\"]:\n",
    "            unew[j] = 20\n",
    "\n",
    "    u_v2=np.copy(unew)\n",
    "    i+=1\n",
    "    if i % 100 == 0:\n",
    "        print(i,temps)\n",
    "    save_paraview_one_variable(u_v2, cells._nodeid, nodes._vertex, 2, \"res_VF4\"+str(save_n))"
   ]
  },
  {
   "cell_type": "code",
   "execution_count": null,
   "metadata": {},
   "outputs": [],
   "source": []
  },
  {
   "cell_type": "code",
   "execution_count": null,
   "metadata": {},
   "outputs": [],
   "source": [
    "#####sudo apt-get install paraview"
   ]
  }
 ],
 "metadata": {
  "kernelspec": {
   "display_name": "Python 3",
   "language": "python",
   "name": "python3"
  },
  "language_info": {
   "codemirror_mode": {
    "name": "ipython",
    "version": 3
   },
   "file_extension": ".py",
   "mimetype": "text/x-python",
   "name": "python",
   "nbconvert_exporter": "python",
   "pygments_lexer": "ipython3",
   "version": "3.8.13"
  }
 },
 "nbformat": 4,
 "nbformat_minor": 4
}
